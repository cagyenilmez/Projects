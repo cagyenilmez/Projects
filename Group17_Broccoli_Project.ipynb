{
 "cells": [
  {
   "cell_type": "markdown",
   "id": "8084fe57",
   "metadata": {},
   "source": [
    "## Introduction"
   ]
  },
  {
   "cell_type": "markdown",
   "id": "73121f24",
   "metadata": {},
   "source": [
    "Broccoli Project is a reward program in South Africa that helps the poor find shelters, buy food and clothes, etc. by giving them vouchers placed in “Broccoli Points” which are earned by performing socially beneficial actions such as:\n",
    "\n",
    "  - Cleaning up community common grounds <br>\n",
    "  - Taking an HIV/AIDS test<br>\n",
    "  - Recycling <br>\n",
    "  - Keeping their children in schools, etc. <br>\n",
    "  \n",
    "This case study represents the current situation in Cape Town, South Africa. \n",
    "The main objective of implementing broccoli points is to address the maximum number of people for the lowest number of Broccoli Points. There are three types of locations: districts, clinics, and redemption points. \n",
    "\n",
    "We will aim to locate Broccoli Point which are: <br>\n",
    "- “near” to people‟s houses, so that people can reach those points <br>\n",
    "- “near” to clinics so that people can go and take a test in case they do not have any points gathered when they need a food voucher <br>\n",
    "- “near” to redemption points so that people can go and redeem the printed food vouchers. <br>\n",
    "\n",
    "To this end, the three distances of interest are: <br>\n",
    "1. District-to-Clinics (How far from home to where I can get healthcare) <br>\n",
    "2. Clinics-to-Redemption (How far after I get care can I get food) <br>\n",
    "3. District-to-Redemption (How far from my home to get food) "
   ]
  },
  {
   "cell_type": "markdown",
   "id": "68fdb9f0",
   "metadata": {},
   "source": [
    "## Project Goals"
   ]
  },
  {
   "cell_type": "markdown",
   "id": "f3aa28c8",
   "metadata": {},
   "source": [
    "A) Try to cover all districts while minimizing the number of Broccoli points \n",
    "required to do so. Where do you place your BP’s? <br>\n",
    "B) The decision-makers want to see how coverage changes based on the \n",
    "number of installed Broccoli points. Make a systematic sensitivity \n",
    "analysis to demonstrate how many people can be covered with fewer \n",
    "Broccoli points than the number you found in part A. <br>\n",
    "C) Try to minimize the maximum distance between the districts & the \n",
    "Broccoli points while covering all districts. "
   ]
  },
  {
   "cell_type": "markdown",
   "id": "a488136d",
   "metadata": {},
   "source": [
    "## Assumptions"
   ]
  },
  {
   "cell_type": "markdown",
   "id": "cf0088ca",
   "metadata": {},
   "source": [
    "- Broccoli points can  be implemented at any of the given geographical locations such as all the given locations of districts, clinics, and redemption points. \n",
    "- Since we used the given locations, all of the candidate locations can be maintained there are no obstacles to reaching the locations.\n",
    "- Since candidate locations include districts, clinics, and redemption points those locations are inside the cellular radius naturally.\n",
    "- Distance matrices’s data collection is explained above and the distance matrix can be reached by the Excel file. All missing distances are assumed according to a Python library.\n",
    "- The coverage radius for α,β,and δ is equal and 7 km.\n"
   ]
  },
  {
   "cell_type": "markdown",
   "id": "383ec290",
   "metadata": {},
   "source": [
    "## Sets"
   ]
  },
  {
   "cell_type": "markdown",
   "id": "7db1afca",
   "metadata": {},
   "source": [
    "$N$: Number of possible Broccoli Point (BP) locations = 60<br>\n",
    "$I$: Number of districts = 15<br>\n",
    "$J$: Number of clinics = 12 <br>\n",
    "$K$: Number of redemption points = 33<br>"
   ]
  },
  {
   "cell_type": "markdown",
   "id": "f769968b",
   "metadata": {},
   "source": [
    "## Parameters"
   ]
  },
  {
   "cell_type": "markdown",
   "id": "641587d4",
   "metadata": {},
   "source": [
    "$P_{total}$ : Total population of 15 districts = $7,640,584$ <br>\n",
    "$P_i$: Population of district i <br>\n",
    "$D_{ni}$: Distance from district i to n <br>\n",
    "$D_{nj}$: Distance from clinic j to n <br>\n",
    "$D_{nk}$: Distance from redemption point k to n <br>\n",
    "$\\alpha$: Coverage radius for districts <br>\n",
    "$\\beta$: Coverage radius for clinics <br>\n",
    "$\\theta$: Coverage radius for redemption points <br>\n",
    "\\begin{equation}\n",
    "   a_{ni}=\\begin{cases}\n",
    "    1, & \\text{if $D_{ni} \\le \\alpha$}.\\\\\n",
    "    0, & \\text{otherwise}.\n",
    "  \\end{cases}\n",
    "\\end{equation}\n",
    "\\begin{equation}\n",
    "   b_{nj}=\\begin{cases}\n",
    "    1, & \\text{if $D_{nj} \\le \\beta$}.\\\\\n",
    "    0, & \\text{otherwise}.\n",
    "  \\end{cases}\n",
    "\\end{equation}\n",
    "\\begin{equation}\n",
    "   c_{nk}=\\begin{cases}\n",
    "    1, & \\text{if $D_{nk} \\le \\theta$}.\\\\\n",
    "    0, & \\text{otherwise}.\n",
    "  \\end{cases}\n",
    "\\end{equation}\n",
    "\n",
    "\n",
    "\n",
    "\n"
   ]
  },
  {
   "cell_type": "markdown",
   "id": "18409f75",
   "metadata": {},
   "source": [
    "## Decision Variables"
   ]
  },
  {
   "cell_type": "markdown",
   "id": "27c9cfcd",
   "metadata": {},
   "source": [
    "$ z :$  maximum distance z from any chosen facility location to any district"
   ]
  },
  {
   "cell_type": "markdown",
   "id": "4ba97362",
   "metadata": {},
   "source": [
    "\\begin{equation}\n",
    "  y_{i}=\\begin{cases}\n",
    "    1, & \\text{if district i is served }.\\\\\n",
    "    0, & \\text{otherwise}.\n",
    "  \\end{cases}\n",
    "\\end{equation}\n",
    "\n",
    "\\begin{equation}\n",
    "   x_n= \\begin{cases}\n",
    "    1, & \\text{if Broccoli Point is built in location n}.\\\\\n",
    "    0, & \\text{otherwise}.\n",
    "  \\end{cases}\n",
    "\\end{equation}"
   ]
  },
  {
   "cell_type": "markdown",
   "id": "6c87924a",
   "metadata": {},
   "source": [
    " # Part A"
   ]
  },
  {
   "cell_type": "markdown",
   "id": "c270f5af",
   "metadata": {},
   "source": [
    "### Objective Function"
   ]
  },
  {
   "cell_type": "markdown",
   "id": "524fd0cc",
   "metadata": {},
   "source": [
    "Try to cover all districts while minimizing the number of Broccoli points required to do so. <br> Where do you place your BP’s?"
   ]
  },
  {
   "cell_type": "markdown",
   "id": "8e51a799",
   "metadata": {},
   "source": [
    "\\begin{equation}\n",
    "\\begin{aligned}\n",
    "& \\min & \\sum_{n=1}^{60} x_n\\\\\n",
    "\\end{aligned}\n",
    "\\end{equation}"
   ]
  },
  {
   "cell_type": "markdown",
   "id": "6992b972",
   "metadata": {},
   "source": [
    "### Constraints"
   ]
  },
  {
   "cell_type": "markdown",
   "id": "556ddbf6",
   "metadata": {},
   "source": [
    "1. Each district should be covered by at least one BP<br>"
   ]
  },
  {
   "cell_type": "markdown",
   "id": "ba3c97a4",
   "metadata": {},
   "source": [
    " $ \\sum_{n=1}^{60} a_{ni} x_n \\ge 1 \\text , \\forall i\\in \\text{{1,2,...,15}}$"
   ]
  },
  {
   "cell_type": "markdown",
   "id": "ffe2bfa1",
   "metadata": {},
   "source": [
    "2. Each BP should be in radius of at least one housing district"
   ]
  },
  {
   "cell_type": "markdown",
   "id": "8a2ab516",
   "metadata": {},
   "source": [
    " $ \\sum_{i=1}^{15} a_{ni} x_n \\ge x_n \\text , \\forall n\\in \\text{{1,2,...,60}} $"
   ]
  },
  {
   "cell_type": "markdown",
   "id": "1f3bbfbf",
   "metadata": {},
   "source": [
    "3. Each BP should be in radius of at least one clinic"
   ]
  },
  {
   "cell_type": "markdown",
   "id": "b73d5115",
   "metadata": {},
   "source": [
    " $ \\sum_{j=1}^{12} b_{nj} x_n \\ge x_n \\text , \\forall n\\in \\text{{1,2,...,60}} $"
   ]
  },
  {
   "cell_type": "markdown",
   "id": "bdc5ee98",
   "metadata": {},
   "source": [
    "4. Each BP should be in radius of at least one redemption point"
   ]
  },
  {
   "cell_type": "markdown",
   "id": "7fade4c0",
   "metadata": {},
   "source": [
    " $ \\sum_{k=1}^{33} c_{nk} x_n \\ge x_n \\text , \\forall n\\in \\text{{1,2,...,60}} $"
   ]
  },
  {
   "cell_type": "markdown",
   "id": "c30c7915",
   "metadata": {},
   "source": [
    "5. Domain constraint"
   ]
  },
  {
   "cell_type": "markdown",
   "id": "3a5128dc",
   "metadata": {},
   "source": [
    "$x_n \\in \\text{{0,1}}, \\forall n\\in \\text{{1,2,...,60}}$"
   ]
  },
  {
   "cell_type": "markdown",
   "id": "d6aba60e",
   "metadata": {},
   "source": [
    "### Script for Part A"
   ]
  },
  {
   "cell_type": "code",
   "execution_count": 1,
   "id": "dadaab30",
   "metadata": {},
   "outputs": [],
   "source": [
    "import pandas as pd\n",
    "import gurobipy as gp\n",
    "from gurobipy import GRB\n",
    "import matplotlib.pyplot as plt"
   ]
  },
  {
   "cell_type": "code",
   "execution_count": 2,
   "id": "fb8eb7ba",
   "metadata": {
    "scrolled": false
   },
   "outputs": [
    {
     "name": "stdout",
     "output_type": "stream",
     "text": [
      "Set parameter Username\n",
      "Academic license - for non-commercial use only - expires 2024-11-13\n",
      "Gurobi Optimizer version 10.0.3 build v10.0.3rc0 (win64)\n",
      "\n",
      "CPU model: 13th Gen Intel(R) Core(TM) i7-13650HX, instruction set [SSE2|AVX|AVX2]\n",
      "Thread count: 14 physical cores, 20 logical processors, using up to 20 threads\n",
      "\n",
      "Optimize a model with 2355 rows, 60 columns and 14148 nonzeros\n",
      "Model fingerprint: 0xe3c79993\n",
      "Variable types: 0 continuous, 60 integer (60 binary)\n",
      "Coefficient statistics:\n",
      "  Matrix range     [1e+00, 1e+00]\n",
      "  Objective range  [1e+00, 1e+00]\n",
      "  Bounds range     [1e+00, 1e+00]\n",
      "  RHS range        [1e+00, 1e+00]\n",
      "Found heuristic solution: objective 15.0000000\n",
      "Presolve removed 2355 rows and 60 columns\n",
      "Presolve time: 0.01s\n",
      "Presolve: All rows and columns removed\n",
      "\n",
      "Explored 0 nodes (0 simplex iterations) in 0.02 seconds (0.02 work units)\n",
      "Thread count was 1 (of 20 available processors)\n",
      "\n",
      "Solution count 2: 14 15 \n",
      "\n",
      "Optimal solution found (tolerance 1.00e-04)\n",
      "Best objective 1.400000000000e+01, best bound 1.400000000000e+01, gap 0.0000%\n",
      "Optimal number of BPs: 14.0\n",
      "Selected BPs at locations: [4, 5, 8, 9, 12, 13, 17, 31, 34, 36, 51, 52, 53, 56]\n"
     ]
    }
   ],
   "source": [
    "# extracting data\n",
    "districts_df = pd.read_excel('candidate_locations_deneme.xlsx', sheet_name='Districts', usecols='F:T', skiprows=4)\n",
    "clinics_df = pd.read_excel('candidate_locations_deneme.xlsx', sheet_name='Clinics', usecols='F:Q', skiprows=4)\n",
    "redemptions_df = pd.read_excel('candidate_locations_deneme.xlsx', sheet_name='Redemptions', usecols='F:Q', skiprows=4)\n",
    "\n",
    "districts_df = districts_df.apply(pd.to_numeric, errors='coerce')\n",
    "clinics_df = clinics_df.apply(pd.to_numeric, errors='coerce')\n",
    "redemptions_df = redemptions_df.apply(pd.to_numeric, errors='coerce')\n",
    "\n",
    "# parameters\n",
    "coverage_radius = 7\n",
    "N = 60 \n",
    "I = len(districts_df.columns)  \n",
    "J = len(clinics_df.columns)    \n",
    "K = len(redemptions_df.columns)  \n",
    "\n",
    "# binary coverage parameters\n",
    "a_ni = [[1 if districts_df.iloc[n, i] <= coverage_radius else 0 for n in range(N)] for i in range(I)]\n",
    "b_nj = [[1 if clinics_df.iloc[n, j] <= coverage_radius else 0 for n in range(N)] for j in range(J)]\n",
    "c_nk = [[1 if redemptions_df.iloc[n, k] <= coverage_radius else 0 for n in range(N)] for k in range(K)]# setting up the optimization model\n",
    "\n",
    "# defining the model\n",
    "m = gp.Model(\"Broccoli_Points_Placement\")\n",
    "\n",
    "# decision variable\n",
    "x = m.addVars(N, vtype=GRB.BINARY, name=\"ifBPBuiltOnI\") \n",
    "\n",
    "# objective function\n",
    "m.setObjective(x.sum(), GRB.MINIMIZE)\n",
    "\n",
    "# constraints\n",
    "for i in range(I): \n",
    "    m.addConstr(gp.quicksum(a_ni[i][n] * x[n] for n in range(N)) >= 1, name=f\"dist_cover_{i}\")\n",
    "\n",
    "for i in range(I): \n",
    "    for n in range(N):\n",
    "        m.addConstr(gp.quicksum(a_ni[i][n] * x[n] for n in range(N)) >= x[n], name=f\"clinic_cover_{i}\")\n",
    "\n",
    "for j in range(J):\n",
    "    for n in range(N):\n",
    "        m.addConstr(gp.quicksum(b_nj[j][n] * x[n] for n in range(N)) >= x[n], name=f\"clinic_cover_{j}\")\n",
    "\n",
    "for k in range(K):\n",
    "    for n in range(N):\n",
    "        m.addConstr(gp.quicksum(c_nk[k][n] * x[n] for n in range(N)) >= x[n], name=f\"redemp_cover_{k}\")\n",
    "\n",
    "\n",
    "# solving the model\n",
    "m.optimize()\n",
    "\n",
    "# output\n",
    "if m.status == GRB.OPTIMAL:\n",
    "    selected_bps = [n for n in range(N) if x[n].X > 0.5]\n",
    "    print('Optimal number of BPs:', m.objVal)\n",
    "    print('Selected BPs at locations:', selected_bps)\n",
    "\n",
    "else:\n",
    "    print(\"No feasible solution found.\")\n"
   ]
  },
  {
   "cell_type": "markdown",
   "id": "d4b01920",
   "metadata": {},
   "source": [
    "### Analysis & Results for Part A"
   ]
  },
  {
   "cell_type": "markdown",
   "id": "c903dfec",
   "metadata": {},
   "source": [
    "Model finds the minimum number of Broccoli Points initiated when cover radius is 7 km as 14. This means there can be at least 14 Broccoli Points initiated if all districts are desired to be covered for given coverage radius 7 km."
   ]
  },
  {
   "cell_type": "markdown",
   "id": "f9f65d81",
   "metadata": {},
   "source": [
    "# Part B"
   ]
  },
  {
   "cell_type": "markdown",
   "id": "dd90efcf",
   "metadata": {},
   "source": [
    "The decision-makers want to see how coverage changes based on the \n",
    "number of installed <br> Broccoli points.  Make a systematic sensitivity \n",
    "analysis to demonstrate how many people <br> can be  covered with fewer \n",
    "Broccoli points than the number you found in part A. <br>"
   ]
  },
  {
   "cell_type": "markdown",
   "id": "248c6ba9",
   "metadata": {},
   "source": [
    "### Objective Function"
   ]
  },
  {
   "cell_type": "markdown",
   "id": "c4a13fe8",
   "metadata": {},
   "source": [
    "\\begin{equation}\n",
    "\\begin{aligned}\n",
    "& \\max & \\sum_{i=1}^{15} y_{i}P_i\\\\\n",
    "\\end{aligned}\n",
    "\\end{equation}"
   ]
  },
  {
   "cell_type": "markdown",
   "id": "a041f3a0",
   "metadata": {},
   "source": [
    "### Constraints"
   ]
  },
  {
   "cell_type": "markdown",
   "id": "a24023bb",
   "metadata": {},
   "source": [
    "1. Decreasing the value of BP found in Part A by one to do sensitivity analysis"
   ]
  },
  {
   "cell_type": "markdown",
   "id": "6b31ab52",
   "metadata": {},
   "source": [
    "$\\sum_{n=1}^{60}x_n \\le 13$"
   ]
  },
  {
   "cell_type": "markdown",
   "id": "61c92915",
   "metadata": {},
   "source": [
    "2. Each BP should be in radius of at least one housing district"
   ]
  },
  {
   "cell_type": "markdown",
   "id": "88b0d2e0",
   "metadata": {},
   "source": [
    " $ \\sum_{j=1}^{12} b_{nj} x_n \\ge x_n \\text , \\forall n\\in \\text{{1,2,...,60}} $"
   ]
  },
  {
   "cell_type": "markdown",
   "id": "2d51b8fb",
   "metadata": {},
   "source": [
    "3. Each BP should be in radius of at least one redemption point"
   ]
  },
  {
   "cell_type": "markdown",
   "id": "7c8da143",
   "metadata": {},
   "source": [
    " $ \\sum_{k=1}^{33} c_{nk} x_n \\ge x_n \\text , \\forall n\\in \\text{{1,2,...,60}} $"
   ]
  },
  {
   "cell_type": "markdown",
   "id": "45bc562f",
   "metadata": {},
   "source": [
    "4. Domain constraints"
   ]
  },
  {
   "cell_type": "markdown",
   "id": "0d1ce7cf",
   "metadata": {},
   "source": [
    "$x_n \\text , y_{i} \\in \\text{{0,1}}, \\forall n\\in \\text{{1,2,...,60}}, \\forall i\\in \\text{{1,2,...,15}}$"
   ]
  },
  {
   "cell_type": "markdown",
   "id": "b349e9bc",
   "metadata": {},
   "source": [
    "### Script for Part B"
   ]
  },
  {
   "cell_type": "code",
   "execution_count": 3,
   "id": "462d8a2b",
   "metadata": {},
   "outputs": [
    {
     "name": "stdout",
     "output_type": "stream",
     "text": [
      "Discarded solution information\n"
     ]
    }
   ],
   "source": [
    "# cleaning the model from Part A\n",
    "m.reset()"
   ]
  },
  {
   "cell_type": "code",
   "execution_count": 4,
   "id": "ada5d185",
   "metadata": {},
   "outputs": [
    {
     "name": "stdout",
     "output_type": "stream",
     "text": [
      "Gurobi Optimizer version 10.0.3 build v10.0.3rc0 (win64)\n",
      "\n",
      "CPU model: 13th Gen Intel(R) Core(TM) i7-13650HX, instruction set [SSE2|AVX|AVX2]\n",
      "Thread count: 14 physical cores, 20 logical processors, using up to 20 threads\n",
      "\n",
      "Optimize a model with 1456 rows, 75 columns and 7987 nonzeros\n",
      "Model fingerprint: 0x2543bea2\n",
      "Variable types: 0 continuous, 75 integer (75 binary)\n",
      "Coefficient statistics:\n",
      "  Matrix range     [1e+00, 1e+00]\n",
      "  Objective range  [3e+03, 5e+06]\n",
      "  Bounds range     [1e+00, 1e+00]\n",
      "  RHS range        [1e+01, 1e+01]\n",
      "Found heuristic solution: objective -0.0000000\n",
      "Presolve removed 617 rows and 4 columns\n",
      "Presolve time: 0.01s\n",
      "Presolved: 839 rows, 71 columns, 4642 nonzeros\n",
      "Variable types: 0 continuous, 71 integer (71 binary)\n",
      "\n",
      "Root relaxation: objective 7.640584e+06, 41 iterations, 0.00 seconds (0.00 work units)\n",
      "\n",
      "    Nodes    |    Current Node    |     Objective Bounds      |     Work\n",
      " Expl Unexpl |  Obj  Depth IntInf | Incumbent    BestBd   Gap | It/Node Time\n",
      "\n",
      "     0     0 7640584.00    0   21   -0.00000 7640584.00      -     -    0s\n",
      "H    0     0                    7171359.0000 7640584.00  6.54%     -    0s\n",
      "H    0     0                    7563108.0000 7640584.00  1.02%     -    0s\n",
      "H    0     0                    7582588.0000 7640584.00  0.76%     -    0s\n",
      "     0     0 7640584.00    0   26 7582588.00 7640584.00  0.76%     -    0s\n",
      "     0     0 infeasible    0      7582588.00 7582588.00  0.00%     -    0s\n",
      "\n",
      "Cutting planes:\n",
      "  MIR: 13\n",
      "  Flow cover: 4\n",
      "  RLT: 3\n",
      "\n",
      "Explored 1 nodes (141 simplex iterations) in 0.08 seconds (0.05 work units)\n",
      "Thread count was 20 (of 20 available processors)\n",
      "\n",
      "Solution count 4: 7.58259e+06 7.56311e+06 7.17136e+06 -0 \n",
      "\n",
      "Optimal solution found (tolerance 1.00e-04)\n",
      "Best objective 7.582588000000e+06, best bound 7.582588000000e+06, gap 0.0000%\n",
      "Optimal covered population: 7582588\n",
      "Percentage of total population covered: 99.24094807412627%\n",
      "Selected BPs at locations: [5, 8, 9, 13, 18, 19, 23, 30, 35, 36, 40, 51, 59]\n"
     ]
    }
   ],
   "source": [
    "# extracting data\n",
    "districts_df = pd.read_excel('candidate_locations_deneme.xlsx', sheet_name='Districts', usecols='F:T', skiprows=4)\n",
    "clinics_df = pd.read_excel('candidate_locations_deneme.xlsx', sheet_name='Clinics', usecols='F:Q', skiprows=4)\n",
    "redemptions_df = pd.read_excel('candidate_locations_deneme.xlsx', sheet_name='Redemptions', usecols='F:Q', skiprows=4)\n",
    "\n",
    "districts_df = districts_df.apply(pd.to_numeric, errors='coerce')\n",
    "clinics_df = clinics_df.apply(pd.to_numeric, errors='coerce')\n",
    "redemptions_df = redemptions_df.apply(pd.to_numeric, errors='coerce')\n",
    "\n",
    "# parameters\n",
    "coverage_radius = 7\n",
    "N = 60  \n",
    "I = districts_df.shape[1] \n",
    "J = clinics_df.shape[1]   \n",
    "K = redemptions_df.shape[1]\n",
    "a_ni = [[1 if districts_df.iloc[n, i] <= coverage_radius else 0 for i in range(I)] for n in range(N)]\n",
    "b_nj = [[1 if clinics_df.iloc[n, j] <= coverage_radius else 0 for j in range(J)] for n in range(N)]\n",
    "c_nk = [[1 if redemptions_df.iloc[n, k] <= coverage_radius else 0 for k in range(K)] for n in range(N)]\n",
    "P = {\n",
    "    1: 57996, 2: 52401, 3: 237414, 4: 391749, 5: 98468, \n",
    "    6: 3979, 7: 152030, 8: 200603, 9: 1261463, 10: 4977833, \n",
    "    11: 46684, 12: 52274, 13: 77476, 14: 26914, 15: 3300\n",
    "}\n",
    "P_total = 7640584\n",
    "\n",
    "\n",
    "# defining the model\n",
    "m = gp.Model(\"Broccoli_Points_Placement\")\n",
    "\n",
    "# decision variables\n",
    "x = m.addVars(N, vtype=GRB.BINARY, name=\"if_BP_built_on_n\")\n",
    "y = m.addVars(I, vtype=GRB.BINARY, name=\"if_district_i_covered\") \n",
    "\n",
    "# objective function\n",
    "m.setObjective(gp.quicksum(y[i] * P[i+1] for i in range(I)), GRB.MAXIMIZE)\n",
    "\n",
    "# constraints\n",
    "m.addConstr(x.sum() <= 13, \"limit_of_5_BPs\") \n",
    "\n",
    "for i in range(I):\n",
    "    m.addConstr(gp.quicksum(a_ni[n][i] * x[n] for n in range(N)) >= y[i], f\"cover_district_{i}\")\n",
    "\n",
    "for j in range(J):\n",
    "    for n in range(N):\n",
    "        m.addConstr(gp.quicksum(b_nj[n][j] * x[n] for n in range(N)) >= x[n], f\"cover_clinic_{j}\")\n",
    "\n",
    "for k in range(K):\n",
    "    for n in range(N):\n",
    "        m.addConstr(gp.quicksum(c_nk[n][k] * x[n] for n in range(N)) >= x[n], f\"cover_redemption_{k}\")\n",
    "\n",
    "# solving the model\n",
    "m.optimize()\n",
    "\n",
    "# output\n",
    "if m.status == GRB.OPTIMAL:\n",
    "    selected_bps = [n for n in range(N) if x[n].X > 0.5]\n",
    "    covered_districts = [i for i in range(I) if y[i].X > 0.5]\n",
    "    covered_population = sum(P[i+1] for i in covered_districts)\n",
    "    print(f'Optimal covered population: {covered_population}')\n",
    "    print(f'Percentage of total population covered: {covered_population / P_total * 100}%')\n",
    "    print('Selected BPs at locations:', selected_bps)\n",
    "else:\n",
    "    print(\"No feasible solution found.\")"
   ]
  },
  {
   "cell_type": "markdown",
   "id": "5f9da675",
   "metadata": {},
   "source": [
    "### Analysis & Results for Part B"
   ]
  },
  {
   "cell_type": "markdown",
   "id": "35e31049",
   "metadata": {},
   "source": [
    "Sensitivity analysis is done according to following algorithm. Optimal number of broccoli points found in part A for specific cover radius. Population percantage that is served by broccoli points is 100 in Part A as broccoli points are expected to serve everybody. Let’s say there is a budget and budget is exceeded when there are 14 broccoli points. Therefore, percantage of population covered when there are less broccoli points initiated should be analyzed. Analysis will done when there are 13, 12, 11 broccoli points. If percantage of population that gets the service from broccoli points when there are less broccoli point than in part A is above the certain threshold that satisfies, less broccoli points will be initiated.\n",
    "\n",
    "Population percantage covered with 14 BP when the coverage radius is 7km : 100\n",
    "\n",
    "Population percantage covered with 13 BP when the coverage radius is 7km: 99.24\n",
    "\n",
    "Population percantage covered with 12 BP when the coverage radius is 7km: 98.23\n",
    "\n",
    "Population percantage covered with 11 BP when the coverage radius is 7km: 86.64\n",
    "\n",
    "Let’s assume the treshold is covering at least 95 percent of population. Then 12 is the minimum number of broccoli points. Also, it is obvious that decrease in covered percentage will level up as less broccoli points are inititated because when maximizing the population covered; first candidate broccoli points are initiated for the most populated districts and when the number of broccoli points are decreased model will try to keep the most populous ones and relieve the least populous ones. Therefore, at first model relieve the Wetton, the least populated one with 3000 people to maximize the population covered and did not serve the Wetton. The model will keep the Cape Town until the minimum number of Broccoli points for feasible solution for given coverage radius because Cape Town is the most populous one"
   ]
  },
  {
   "cell_type": "markdown",
   "id": "e6300a11",
   "metadata": {},
   "source": [
    "# Part C"
   ]
  },
  {
   "cell_type": "markdown",
   "id": "db224ae2",
   "metadata": {},
   "source": [
    "Try to minimize the maximum distance between the districts & the \n",
    "Broccoli points while covering all districts. "
   ]
  },
  {
   "cell_type": "markdown",
   "id": "0048fc0b",
   "metadata": {},
   "source": [
    "### Objective Function"
   ]
  },
  {
   "cell_type": "markdown",
   "id": "25f839e5",
   "metadata": {},
   "source": [
    "\\begin{equation}\n",
    "     \\begin{aligned}\n",
    "         \\min  z \\\\\n",
    "    \\end{aligned}\n",
    "\\end{equation}"
   ]
  },
  {
   "cell_type": "markdown",
   "id": "21869045",
   "metadata": {},
   "source": [
    "### Constraints"
   ]
  },
  {
   "cell_type": "markdown",
   "id": "a7e92966",
   "metadata": {},
   "source": [
    "1. Each district should be covered by at least one BP<br>"
   ]
  },
  {
   "cell_type": "markdown",
   "id": "b9ee7b10",
   "metadata": {},
   "source": [
    " $ \\sum_{n=1}^{60} a_{ni} x_n \\ge 1 \\text , \\forall i\\in \\text{{1,2,...,15}}$"
   ]
  },
  {
   "cell_type": "markdown",
   "id": "fdbc044b",
   "metadata": {},
   "source": [
    "2. Maximum distance z from any chosen facility location to any district is minimized"
   ]
  },
  {
   "cell_type": "markdown",
   "id": "577c1e14",
   "metadata": {},
   "source": [
    "$x_n D_{ni} \\le z \\text , \\forall n\\in \\text{{1,2,...,60}}\\text , \\forall i\\in \\text{{1,2,...,15}}$"
   ]
  },
  {
   "cell_type": "markdown",
   "id": "ed37ebb6",
   "metadata": {},
   "source": [
    "3. Each BP should be in radius of at least one housing district"
   ]
  },
  {
   "cell_type": "markdown",
   "id": "4b4ee965",
   "metadata": {},
   "source": [
    " $ \\sum_{i=1}^{15} a_{ni} x_n \\ge x_n \\text , \\forall n\\in \\text{{1,2,...,60}} $"
   ]
  },
  {
   "cell_type": "markdown",
   "id": "79e9b91f",
   "metadata": {},
   "source": [
    "4. Each BP should be in radius of at least one clinic"
   ]
  },
  {
   "cell_type": "markdown",
   "id": "7447efcd",
   "metadata": {},
   "source": [
    " $ \\sum_{j=1}^{12} b_{nj} x_n \\ge x_n \\text , \\forall n\\in \\text{{1,2,...,60}} $"
   ]
  },
  {
   "cell_type": "markdown",
   "id": "e3c5f877",
   "metadata": {},
   "source": [
    "5. Each BP should be in radius of at least one redemption point"
   ]
  },
  {
   "cell_type": "markdown",
   "id": "5b1f3b74",
   "metadata": {},
   "source": [
    " $ \\sum_{k=1}^{33} c_{nk} x_n \\ge x_n \\text , \\forall n\\in \\text{{1,2,...,60}} $"
   ]
  },
  {
   "cell_type": "markdown",
   "id": "593cf8b9",
   "metadata": {},
   "source": [
    "6. Domain canstraints"
   ]
  },
  {
   "cell_type": "markdown",
   "id": "16a1ad70",
   "metadata": {},
   "source": [
    "$x_n \\in \\text{{0,1}}, \\forall n\\in \\text{{1,2,...,60}}$"
   ]
  },
  {
   "cell_type": "markdown",
   "id": "a8c838e8",
   "metadata": {},
   "source": [
    "### Script for Part C"
   ]
  },
  {
   "cell_type": "code",
   "execution_count": 5,
   "id": "0f66ef79",
   "metadata": {},
   "outputs": [
    {
     "name": "stdout",
     "output_type": "stream",
     "text": [
      "Discarded solution information\n"
     ]
    }
   ],
   "source": [
    "# cleaning the model from Part B\n",
    "m.reset()"
   ]
  },
  {
   "cell_type": "code",
   "execution_count": 6,
   "id": "c7a764e4",
   "metadata": {},
   "outputs": [
    {
     "name": "stdout",
     "output_type": "stream",
     "text": [
      "Gurobi Optimizer version 10.0.3 build v10.0.3rc0 (win64)\n",
      "\n",
      "CPU model: 13th Gen Intel(R) Core(TM) i7-13650HX, instruction set [SSE2|AVX|AVX2]\n",
      "Thread count: 14 physical cores, 20 logical processors, using up to 20 threads\n",
      "\n",
      "Optimize a model with 3255 rows, 61 columns and 15930 nonzeros\n",
      "Model fingerprint: 0x73923754\n",
      "Variable types: 0 continuous, 61 integer (60 binary)\n",
      "Coefficient statistics:\n",
      "  Matrix range     [7e-01, 1e+02]\n",
      "  Objective range  [1e+00, 1e+00]\n",
      "  Bounds range     [1e+00, 1e+00]\n",
      "  RHS range        [1e+00, 1e+00]\n",
      "Presolve removed 3255 rows and 61 columns\n",
      "Presolve time: 0.02s\n",
      "Presolve: All rows and columns removed\n",
      "\n",
      "Explored 0 nodes (0 simplex iterations) in 0.03 seconds (0.03 work units)\n",
      "Thread count was 1 (of 20 available processors)\n",
      "\n",
      "Solution count 1: 124 \n",
      "\n",
      "Optimal solution found (tolerance 1.00e-04)\n",
      "Best objective 1.240000000000e+02, best bound 1.240000000000e+02, gap 0.0000%\n",
      "max distance: 124.0\n"
     ]
    }
   ],
   "source": [
    "# extracting data\n",
    "districts_df = pd.read_excel('candidate_locations_deneme.xlsx', sheet_name='Districts', usecols='F:T', skiprows=4)\n",
    "clinics_df = pd.read_excel('candidate_locations_deneme.xlsx', sheet_name='Clinics', usecols='F:Q', skiprows=4)\n",
    "redemptions_df = pd.read_excel('candidate_locations_deneme.xlsx', sheet_name='Redemptions', usecols='F:Q', skiprows=4)\n",
    "\n",
    "# data to numeric\n",
    "districts_df = districts_df.apply(pd.to_numeric, errors='coerce')\n",
    "clinics_df = clinics_df.apply(pd.to_numeric, errors='coerce')\n",
    "redemptions_df = redemptions_df.apply(pd.to_numeric, errors='coerce')\n",
    "\n",
    "# parameters\n",
    "coverage_radius = 7\n",
    "N = 60\n",
    "I = len(districts_df.columns)  \n",
    "J = len(clinics_df.columns)    \n",
    "K = len(redemptions_df.columns)  \n",
    "\n",
    "# binary coverage parameters\n",
    "a_ni = [[1 if districts_df.iloc[n, i] <= coverage_radius else 0 for n in range(N)] for i in range(I)]\n",
    "b_nj = [[1 if clinics_df.iloc[n, j] <= coverage_radius else 0 for n in range(N)] for j in range(J)]\n",
    "c_nk = [[1 if redemptions_df.iloc[n, k] <= coverage_radius else 0 for n in range(N)] for k in range(K)]\n",
    "\n",
    "# defining the model\n",
    "m = gp.Model(\"Max_Distance\")\n",
    "\n",
    "# decision variable\n",
    "x = m.addVars(N, vtype=GRB.BINARY, name=\"ifBPBuiltOnI\") \n",
    "z = m.addVar(vtype=GRB.INTEGER, name=\"max_distance\")  \n",
    "\n",
    "# objective function\n",
    "m.setObjective(z, GRB.MINIMIZE)\n",
    "\n",
    "# constraints\n",
    "for i in range(I): \n",
    "    m.addConstr(gp.quicksum(a_ni[i][n] * x[n] for n in range(N)) >= 1, name=f\"dist_cover_{i}\")\n",
    "    \n",
    "for n in range(N):\n",
    "    for i in range(I):\n",
    "        m.addConstr(x[n] * districts_df.iloc[n, i] <= z, name=f\"max_dist_{n}_{i}\")\n",
    "\n",
    "for i in range(I): \n",
    "    for n in range(N):\n",
    "        m.addConstr(gp.quicksum(a_ni[i][n] * x[n] for n in range(N)) >= x[n], name=f\"clinic_cover_{i}\")\n",
    "\n",
    "for j in range(J):\n",
    "    for n in range(N):\n",
    "        m.addConstr(gp.quicksum(b_nj[j][n] * x[n] for n in range(N)) >= x[n], name=f\"clinic_cover_{j}\")\n",
    "\n",
    "for k in range(K):\n",
    "    for n in range(N):\n",
    "        m.addConstr(gp.quicksum(c_nk[k][n] * x[n] for n in range(N)) >= x[n], name=f\"redemp_cover_{k}\")\n",
    "\n",
    "\n",
    "# solving the model\n",
    "m.optimize()\n",
    "\n",
    "# output\n",
    "if m.status == GRB.OPTIMAL:\n",
    "    print('max distance:', m.objVal)\n",
    "\n",
    "else:\n",
    "    print(\"No feasible solution found.\")"
   ]
  },
  {
   "cell_type": "markdown",
   "id": "7a011626",
   "metadata": {},
   "source": [
    "### Analysis & Results for Part C"
   ]
  },
  {
   "cell_type": "markdown",
   "id": "69028053",
   "metadata": {},
   "source": [
    "Maximum distance between any district and initiated Broccoli Point is found to be 124 km by model when coverage radius is 7 km. To linearize the objective function of minimizing the maximum distance between any district and initiated Broccoli Points, new variable z is introduced. Z is set be the maximum distance between any district and initiated Broccoli Point by constraint number (1). Objective function is minimizing the z value. "
   ]
  },
  {
   "cell_type": "code",
   "execution_count": null,
   "id": "ea6ca6aa",
   "metadata": {},
   "outputs": [],
   "source": []
  }
 ],
 "metadata": {
  "kernelspec": {
   "display_name": "Python 3 (ipykernel)",
   "language": "python",
   "name": "python3"
  },
  "language_info": {
   "codemirror_mode": {
    "name": "ipython",
    "version": 3
   },
   "file_extension": ".py",
   "mimetype": "text/x-python",
   "name": "python",
   "nbconvert_exporter": "python",
   "pygments_lexer": "ipython3",
   "version": "3.11.4"
  }
 },
 "nbformat": 4,
 "nbformat_minor": 5
}
